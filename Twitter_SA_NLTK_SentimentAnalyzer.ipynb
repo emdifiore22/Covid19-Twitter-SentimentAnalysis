{
 "cells": [
  {
   "cell_type": "code",
   "execution_count": 32,
   "metadata": {},
   "outputs": [
    {
     "name": "stderr",
     "output_type": "stream",
     "text": [
      "[nltk_data] Downloading package vader_lexicon to\n",
      "[nltk_data]     /home/emanuele/nltk_data...\n",
      "[nltk_data]   Package vader_lexicon is already up-to-date!\n"
     ]
    },
    {
     "data": {
      "text/plain": [
       "True"
      ]
     },
     "execution_count": 32,
     "metadata": {},
     "output_type": "execute_result"
    }
   ],
   "source": [
    "# Import Spark\n",
    "from pyspark import SparkContext, SparkConf\n",
    "from pyspark.sql import SQLContext, SparkSession\n",
    "from pyspark.ml import Pipeline\n",
    "from pyspark.ml.feature import *\n",
    "from pyspark.sql import functions as F\n",
    "from pyspark.sql.functions import udf\n",
    "from pyspark.sql.types import *\n",
    "from pyspark.ml.classification import NaiveBayes\n",
    "from pyspark.ml.evaluation import MulticlassClassificationEvaluator\n",
    "import pandas as pd\n",
    "import string, re, json\n",
    "\n",
    "# Import NLTK\n",
    "import nltk\n",
    "import sys\n",
    "from nltk.sentiment.vader import SentimentIntensityAnalyzer\n",
    "nltk.download(\"vader_lexicon\")"
   ]
  },
  {
   "cell_type": "code",
   "execution_count": 33,
   "metadata": {},
   "outputs": [],
   "source": [
    "ENGRetweet = \"./ENGRetweet.json\"\n",
    "ENGNoRetweet = \"./ENGNoRetweet.json\"\n",
    "\n",
    "# Creazione dei dataFrame\n",
    "df_ENGRetweet = spark.read\\\n",
    "    .format(\"json\")\\\n",
    "    .option(\"inferSchema\", \"true\")\\\n",
    "    .option(\"multiLine\", \"true\")\\\n",
    "    .load(ENGRetweet)\n",
    "\n",
    "df_ENGNoRetweet = spark.read\\\n",
    "    .format(\"json\")\\\n",
    "    .option(\"inferSchema\", \"true\")\\\n",
    "    .option(\"multiLine\", \"true\")\\\n",
    "    .load(ENGNoRetweet)"
   ]
  },
  {
   "cell_type": "code",
   "execution_count": 34,
   "metadata": {},
   "outputs": [
    {
     "data": {
      "text/plain": [
       "1050"
      ]
     },
     "execution_count": 34,
     "metadata": {},
     "output_type": "execute_result"
    }
   ],
   "source": [
    "# UNIONE \n",
    "df_Tweets = df_ENGRetweet\\\n",
    "    .selectExpr(\"id_str\", \"retweeted_status.full_text as full_text\")\\\n",
    "    .union(df_ENGNoRetweet.select(\"id_str\", \"full_text\"))\n",
    "\n",
    "\n",
    "df_Tweets = df_Tweets.select(\"full_text\").distinct()\n",
    "df_Tweets.count()"
   ]
  },
  {
   "cell_type": "code",
   "execution_count": 49,
   "metadata": {},
   "outputs": [],
   "source": [
    "def vaderSentimentAnalysis(data_str):\n",
    "    sid = SentimentIntensityAnalyzer()\n",
    "    ss = sid.polarity_scores(data_str)\n",
    "    return ss\n",
    "vaderSentimentAnalysis_udf = udf(vaderSentimentAnalysis, StringType())"
   ]
  },
  {
   "cell_type": "code",
   "execution_count": 52,
   "metadata": {},
   "outputs": [
    {
     "name": "stdout",
     "output_type": "stream",
     "text": [
      "+--------------------------------------------------+--------------------------------------------------+\n",
      "|                                         full_text|                                             score|\n",
      "+--------------------------------------------------+--------------------------------------------------+\n",
      "|\"The United States, long accustomed to thinking...|  {neg=0.0, pos=0.299, compound=0.9076, neu=0.701}|\n",
      "|Coronavirus &amp; climate change demand similar...|  {neg=0.031, pos=0.25, compound=0.8639, neu=0.72}|\n",
      "|Oh to be a 1998 baby\n",
      "\n",
      "✔️ first memory is 9/11\n",
      "\n",
      "...| {neg=0.233, pos=0.0, compound=-0.7184, neu=0.767}|\n",
      "|Hookah should be banned at groove and restauran...|     {neg=0.2, pos=0.0, compound=-0.4588, neu=0.8}|\n",
      "|@caitrionambalfe @netflix My husband and I have...|         {neg=0.0, pos=0.0, compound=0.0, neu=1.0}|\n",
      "|tangled will be THE movie of self-isolation #CO...|         {neg=0.0, pos=0.0, compound=0.0, neu=1.0}|\n",
      "|#Epeeps Please take care  🦠🦠🦠🔥🔥🔥  #COVID1...|  {neg=0.0, pos=0.355, compound=0.6705, neu=0.645}|\n",
      "|Chairman and CEO of Universal Music Diagnosed W...|  {neg=0.0, pos=0.059, compound=0.1326, neu=0.941}|\n",
      "|As an ER doc trying to treat patients who may h...| {neg=0.081, pos=0.105, compound=0.296, neu=0.814}|\n",
      "|Public News Service Daily Newscast: Biden and S...|         {neg=0.0, pos=0.0, compound=0.0, neu=1.0}|\n",
      "|Wash your hands, self quarantine, and don’t pan...|{neg=0.199, pos=0.164, compound=-0.2023, neu=0....|\n",
      "|Ohhhhh my frick, thank you!!! https://t.co/lQHB...|  {neg=0.0, pos=0.403, compound=0.5229, neu=0.597}|\n",
      "|@Colonel_Eevee Ur excellent. Remember being sad...|{neg=0.107, pos=0.174, compound=0.4588, neu=0.719}|\n",
      "|@patmcguinness @nevancik1 @chicagosmayor @realD...|       {neg=0.2, pos=0.0, compound=-0.25, neu=0.8}|\n",
      "|Exclusive. Access. \n",
      "\n",
      "Why though? https://t.co/5...|   {neg=0.0, pos=0.273, compound=0.128, neu=0.727}|\n",
      "|#coronavirus update in US. New cases confirmed ...|         {neg=0.0, pos=0.0, compound=0.0, neu=1.0}|\n",
      "|On question what candidates would do 2 help ree...|{neg=0.059, pos=0.169, compound=0.5709, neu=0.772}|\n",
      "|New: Starting immediately and for the next 8 we...| {neg=0.07, pos=0.074, compound=0.0258, neu=0.856}|\n",
      "|The safest bet is to use disinfectant wipes tha...|  {neg=0.0, pos=0.241, compound=0.6597, neu=0.759}|\n",
      "|Me, 2 weeks ago: Twitter is breaking my brain, ...|{neg=0.345, pos=0.042, compound=-0.9601, neu=0....|\n",
      "+--------------------------------------------------+--------------------------------------------------+\n",
      "only showing top 20 rows\n",
      "\n"
     ]
    }
   ],
   "source": [
    "df_Tweets = df_Tweets.withColumn(\"score\", vaderSentimentAnalysis_udf(df_Tweets['full_text']))\n",
    "df_Tweets.show(truncate=50)"
   ]
  },
  {
   "cell_type": "code",
   "execution_count": null,
   "metadata": {},
   "outputs": [],
   "source": []
  }
 ],
 "metadata": {
  "kernelspec": {
   "display_name": "Python 2",
   "language": "python",
   "name": "python2"
  },
  "language_info": {
   "codemirror_mode": {
    "name": "ipython",
    "version": 2
   },
   "file_extension": ".py",
   "mimetype": "text/x-python",
   "name": "python",
   "nbconvert_exporter": "python",
   "pygments_lexer": "ipython2",
   "version": "2.7.16"
  }
 },
 "nbformat": 4,
 "nbformat_minor": 2
}
