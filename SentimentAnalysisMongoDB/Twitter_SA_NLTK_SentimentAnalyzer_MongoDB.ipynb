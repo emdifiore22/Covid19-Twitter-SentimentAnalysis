{
 "cells": [
  {
   "cell_type": "code",
   "execution_count": 1,
   "metadata": {},
   "outputs": [
    {
     "name": "stderr",
     "output_type": "stream",
     "text": [
      "[nltk_data] Downloading package vader_lexicon to\n",
      "[nltk_data]     /home/emanuele/nltk_data...\n",
      "[nltk_data]   Package vader_lexicon is already up-to-date!\n"
     ]
    }
   ],
   "source": [
    "# Import Spark\n",
    "from pyspark import SparkContext, SparkConf\n",
    "from pyspark.sql import SQLContext, SparkSession\n",
    "from pyspark.ml import Pipeline\n",
    "from pyspark.ml.feature import *\n",
    "from pyspark.sql import functions as F\n",
    "from pyspark.sql.functions import udf\n",
    "from pyspark.sql.types import *\n",
    "from pyspark.ml.classification import NaiveBayes\n",
    "from pyspark.ml.evaluation import MulticlassClassificationEvaluator\n",
    "import pandas as pd\n",
    "import string, re, json\n",
    "\n",
    "# Import NLTK\n",
    "import nltk\n",
    "import sys\n",
    "from nltk.sentiment.vader import SentimentIntensityAnalyzer\n",
    "nltk.download(\"vader_lexicon\")\n",
    "\n",
    "spark = SparkSession.builder \\\n",
    "        .config(\"spark.mongodb.input.uri\", \"mongodb://192.168.1.27/TwitterSentimentAnalysis.Covid19?retryWrites=true\") \\\n",
    "        .config(\"spark.mongodb.output.uri\", \"mongodb://192.168.1.27/TwitterSentimentAnalysis.Covid19?retryWrites=true\") \\\n",
    "        .getOrCreate()\n"
   ]
  },
  {
   "cell_type": "code",
   "execution_count": 3,
   "metadata": {},
   "outputs": [
    {
     "name": "stdout",
     "output_type": "stream",
     "text": [
      "root\n",
      " |-- _id: struct (nullable = true)\n",
      " |    |-- oid: string (nullable = true)\n",
      " |-- created_at: string (nullable = true)\n",
      " |-- full_text: string (nullable = true)\n",
      " |-- id_str: string (nullable = true)\n",
      "\n",
      "root\n",
      " |-- _id: struct (nullable = true)\n",
      " |    |-- oid: string (nullable = true)\n",
      " |-- created_at: string (nullable = true)\n",
      " |-- id_str: string (nullable = true)\n",
      " |-- retweeted_status: struct (nullable = true)\n",
      " |    |-- full_text: string (nullable = true)\n",
      "\n"
     ]
    }
   ],
   "source": [
    "pipeline_noRetweet = \"[\\\n",
    "    {\\\n",
    "        '$match': {\\\n",
    "            'lang': 'en',\\\n",
    "            'retweeted_status':null\\\n",
    "        }\\\n",
    "    },{\\\n",
    "        '$project': {\\\n",
    "            'id_str': 1\\\n",
    "            'created_at': 1\\\n",
    "            'full_text': 1\\\n",
    "        },\\\n",
    "    }\\\n",
    "]\"\n",
    "\n",
    "pipeline_Retweet = \"[\\\n",
    "    {\\\n",
    "        '$match': {\\\n",
    "            'lang': 'en'\\\n",
    "            'retweeted_status':{$ne: null}\\\n",
    "        }\\\n",
    "    },{\\\n",
    "        '$project': {\\\n",
    "            'id_str': 1\\\n",
    "            'created_at': 1\\\n",
    "            'retweeted_status.full_text': 1\\\n",
    "        },\\\n",
    "    }\\\n",
    "]\"\n",
    "\n",
    "df_ENGNoRetweet = spark.read.format(\"com.mongodb.spark.sql.DefaultSource\").option(\"pipeline\", pipeline_noRetweet).load()\n",
    "df_ENGRetweet = spark.read.format(\"com.mongodb.spark.sql.DefaultSource\").option(\"pipeline\", pipeline_Retweet).load()\n",
    "\n",
    "df_ENGNoRetweet.printSchema()\n",
    "df_ENGRetweet.printSchema()"
   ]
  },
  {
   "cell_type": "code",
   "execution_count": 4,
   "metadata": {},
   "outputs": [
    {
     "data": {
      "text/plain": [
       "43710"
      ]
     },
     "execution_count": 4,
     "metadata": {},
     "output_type": "execute_result"
    }
   ],
   "source": [
    "df_Tweets = df_ENGRetweet\\\n",
    "    .selectExpr(\"id_str\", \"retweeted_status.full_text as full_text\")\\\n",
    "    .union(df_ENGNoRetweet.select(\"id_str\", \"full_text\"))\n",
    "\n",
    "\n",
    "df_Tweets = df_Tweets.select(\"full_text\").distinct()\n",
    "df_Tweets.count()"
   ]
  },
  {
   "cell_type": "code",
   "execution_count": 5,
   "metadata": {},
   "outputs": [],
   "source": [
    "def vaderSentimentAnalysis(data_str):\n",
    "    sid = SentimentIntensityAnalyzer()\n",
    "    ss = sid.polarity_scores(data_str)\n",
    "    return ss\n",
    "vaderSentimentAnalysis_udf = udf(vaderSentimentAnalysis, StringType())"
   ]
  },
  {
   "cell_type": "code",
   "execution_count": 6,
   "metadata": {},
   "outputs": [
    {
     "name": "stdout",
     "output_type": "stream",
     "text": [
      "+--------------------------------------------------+--------------------------------------------------+\n",
      "|                                         full_text|                                             score|\n",
      "+--------------------------------------------------+--------------------------------------------------+\n",
      "|\"The United States, long accustomed to thinking...|  {neg=0.0, pos=0.299, compound=0.9076, neu=0.701}|\n",
      "|Coronavirus &amp; climate change demand similar...|  {neg=0.031, pos=0.25, compound=0.8639, neu=0.72}|\n",
      "|Oh to be a 1998 baby\n",
      "\n",
      "✔️ first memory is 9/11\n",
      "\n",
      "...| {neg=0.233, pos=0.0, compound=-0.7184, neu=0.767}|\n",
      "|From uprising to outbreak: Hong Kong sign langu...|         {neg=0.0, pos=0.0, compound=0.0, neu=1.0}|\n",
      "|Another little way we can help our neighbors. #...|  {neg=0.0, pos=0.213, compound=0.4019, neu=0.787}|\n",
      "|“Our country is facing a medical and economic c...|{neg=0.164, pos=0.056, compound=-0.7506, neu=0.78}|\n",
      "|😷 Dr. Anthony Fauci: \"The idea of anybody gett...| {neg=0.065, pos=0.088, compound=0.077, neu=0.847}|\n",
      "|Chinese number is a lie. There are many more th...|  {neg=0.0, pos=0.064, compound=0.0772, neu=0.936}|\n",
      "|Union Ministry of Health and Family Welfare: A ...|         {neg=0.0, pos=0.0, compound=0.0, neu=1.0}|\n",
      "|MHC &amp; its partners are actively monitoring ...|{neg=0.16, pos=0.138, compound=-0.4767, neu=0.702}|\n",
      "|As the government has just declared state of em...|   {neg=0.14, pos=0.163, compound=0.25, neu=0.698}|\n",
      "|@kumailn 📣I will join you in shouting from the...|{neg=0.065, pos=0.141, compound=0.3832, neu=0.794}|\n",
      "|New poll in Italy hints at the possible politic...|{neg=0.086, pos=0.037, compound=-0.3995, neu=0....|\n",
      "|To the medical professionals, first responders,...|  {neg=0.0, pos=0.217, compound=0.7761, neu=0.783}|\n",
      "|BREAKING: Gov. JB Pritzker is ordering all bars...|         {neg=0.0, pos=0.0, compound=0.0, neu=1.0}|\n",
      "|Together we can defeat #corona if we do not let...|   {neg=0.04, pos=0.15, compound=0.678, neu=0.811}|\n",
      "|In short, the Trump pressured emergency Fed mov...|{neg=0.47, pos=0.068, compound=-0.8834, neu=0.463}|\n",
      "|BREAKING: \n",
      "\n",
      "“About 400 Air and Army National Gu...|  {neg=0.0, pos=0.098, compound=0.4588, neu=0.902}|\n",
      "|1st 10 minutes of #DemocraticDebate \n",
      "\n",
      "Biden wan...|{neg=0.062, pos=0.202, compound=0.7941, neu=0.736}|\n",
      "|Ecuador had the 1st #CoVID19 in SouthAmerica, n...|{neg=0.065, pos=0.046, compound=-0.2263, neu=0....|\n",
      "+--------------------------------------------------+--------------------------------------------------+\n",
      "only showing top 20 rows\n",
      "\n"
     ]
    }
   ],
   "source": [
    "df_Tweets = df_Tweets.withColumn(\"score\", vaderSentimentAnalysis_udf(df_Tweets['full_text']))\n",
    "df_Tweets.show(truncate=50)"
   ]
  },
  {
   "cell_type": "code",
   "execution_count": 7,
   "metadata": {},
   "outputs": [
    {
     "data": {
      "text/plain": [
       "43710"
      ]
     },
     "execution_count": 7,
     "metadata": {},
     "output_type": "execute_result"
    }
   ],
   "source": [
    "df_Tweets.count()"
   ]
  },
  {
   "cell_type": "code",
   "execution_count": null,
   "metadata": {},
   "outputs": [],
   "source": []
  }
 ],
 "metadata": {
  "kernelspec": {
   "display_name": "Python 2",
   "language": "python",
   "name": "python2"
  },
  "language_info": {
   "codemirror_mode": {
    "name": "ipython",
    "version": 2
   },
   "file_extension": ".py",
   "mimetype": "text/x-python",
   "name": "python",
   "nbconvert_exporter": "python",
   "pygments_lexer": "ipython2",
   "version": "2.7.16"
  }
 },
 "nbformat": 4,
 "nbformat_minor": 2
}
