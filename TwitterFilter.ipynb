{
 "cells": [
  {
   "cell_type": "code",
   "execution_count": null,
   "metadata": {},
   "outputs": [],
   "source": [
    "# Caricamento dati necessari\n",
    "#\n",
    "#\n",
    "tweets = \"./iorestoacasa_1.json\"\n",
    "\n",
    "# Creazione dataFrame\n",
    "df_Tweets = spark.read.format(\"json\").option(\"inferSchema\", \"true\").option(\"multiLine\", \"true\").load(tweets)\n",
    "df_Tweets.printSchema()"
   ]
  },
  {
   "cell_type": "code",
   "execution_count": null,
   "metadata": {},
   "outputs": [],
   "source": [
    "#df_Tweets.select(\"extended_tweet.full_text\").show()\n",
    "#df_Tweets.select(\"extended_tweet.full_text\", \"truncated\").show(truncate = 15)\n",
    "df = df_Tweets.select(\"extended_tweet.full_text\").where(\"truncated = true\")\n",
    "#df.show(truncate = 140)\n",
    "\n",
    "df_noRetweet = df_Tweets.where(df_Tweets[\"retweeted_status\"].isNull())\n",
    "df_Tweet_OrgFull = df_noRetweet\\\n",
    "    .select(\"extended_tweet.full_text\")\\\n",
    "    .where(\"truncated = true\")\n",
    "df_Tweet_OrgNotFull = df_noRetweet\\\n",
    "    .select(\"text\")\\\n",
    "    .where(\"truncated = false\")\n",
    "\n",
    "df_withRetweet = df_Tweets.where(df_Tweets[\"retweeted_status\"].isNotNull())\n",
    "df_Tweet_RetFull = df_withRetweet\\\n",
    "    .select(\"retweeted_status.extended_tweet.full_text\")\\\n",
    "    .where(\"retweeted_status.truncated = true\")\n",
    "df_Tweet_RetNotFull = df_withRetweet\\\n",
    "    .select(\"retweeted_status.text\")\\\n",
    "    .where(\"retweeted_status.truncated = false\")\n",
    "\n",
    "df_Tweet_OrgFull = df_Tweet_OrgFull.withColumnRenamed(\"full_text\",\"text\")\n",
    "df_Tweet_RetFull = df_Tweet_RetFull.withColumnRenamed(\"full_text\",\"text\")\n",
    "\n",
    "#df_Tweet_OrgFull.printSchema()\n",
    "#df_Tweet_OrgNotFull.printSchema()\n",
    "#df_Tweet_RetFull.printSchema()\n",
    "#df_Tweet_RetNotFull.printSchema()\n",
    "\n",
    "df_Tweet = df_Tweet_OrgFull\\\n",
    "    .union(df_Tweet_OrgNotFull)\\\n",
    "    .union(df_Tweet_RetFull)\\\n",
    "    .union(df_Tweet_RetNotFull)"
   ]
  },
  {
   "cell_type": "code",
   "execution_count": null,
   "metadata": {},
   "outputs": [],
   "source": [
    "df_Tweet.count()\n",
    "df_Tweet = df_Tweet.dropDuplicates()\n",
    "df_Tweet.count()"
   ]
  }
 ],
 "metadata": {
  "kernelspec": {
   "display_name": "Python 2",
   "language": "python",
   "name": "python2"
  },
  "language_info": {
   "codemirror_mode": {
    "name": "ipython",
    "version": 2
   },
   "file_extension": ".py",
   "mimetype": "text/x-python",
   "name": "python",
   "nbconvert_exporter": "python",
   "pygments_lexer": "ipython2",
   "version": "2.7.16"
  }
 },
 "nbformat": 4,
 "nbformat_minor": 2
}
